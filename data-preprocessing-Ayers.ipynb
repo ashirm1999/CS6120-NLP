{
 "cells": [
  {
   "cell_type": "markdown",
   "metadata": {},
   "source": [
    "### Import Libraries and Data"
   ]
  },
  {
   "cell_type": "code",
   "execution_count": 2,
   "metadata": {},
   "outputs": [],
   "source": [
    "import re\n",
    "import nltk\n",
    "import string\n",
    "import pickle\n",
    "import numpy as np\n",
    "import pandas as pd\n",
    "import seaborn as sns\n",
    "import matplotlib.pyplot as plt\n",
    "from nltk.corpus import stopwords\n",
    "from nltk.stem import PorterStemmer\n",
    "from nltk.tokenize import word_tokenize\n",
    "from tensorflow.keras.preprocessing.text import Tokenizer\n",
    "from tensorflow.keras.preprocessing.sequence import pad_sequences\n",
    "from sklearn.feature_extraction.text import CountVectorizer, TfidfVectorizer"
   ]
  },
  {
   "cell_type": "code",
   "execution_count": 3,
   "metadata": {},
   "outputs": [
    {
     "name": "stdout",
     "output_type": "stream",
     "text": [
      "training shape:  (404290, 6)\n"
     ]
    },
    {
     "data": {
      "text/html": [
       "<div>\n",
       "<style scoped>\n",
       "    .dataframe tbody tr th:only-of-type {\n",
       "        vertical-align: middle;\n",
       "    }\n",
       "\n",
       "    .dataframe tbody tr th {\n",
       "        vertical-align: top;\n",
       "    }\n",
       "\n",
       "    .dataframe thead th {\n",
       "        text-align: right;\n",
       "    }\n",
       "</style>\n",
       "<table border=\"1\" class=\"dataframe\">\n",
       "  <thead>\n",
       "    <tr style=\"text-align: right;\">\n",
       "      <th></th>\n",
       "      <th>id</th>\n",
       "      <th>qid1</th>\n",
       "      <th>qid2</th>\n",
       "      <th>question1</th>\n",
       "      <th>question2</th>\n",
       "      <th>is_duplicate</th>\n",
       "    </tr>\n",
       "  </thead>\n",
       "  <tbody>\n",
       "    <tr>\n",
       "      <th>0</th>\n",
       "      <td>0</td>\n",
       "      <td>1</td>\n",
       "      <td>2</td>\n",
       "      <td>What is the step by step guide to invest in sh...</td>\n",
       "      <td>What is the step by step guide to invest in sh...</td>\n",
       "      <td>0</td>\n",
       "    </tr>\n",
       "    <tr>\n",
       "      <th>1</th>\n",
       "      <td>1</td>\n",
       "      <td>3</td>\n",
       "      <td>4</td>\n",
       "      <td>What is the story of Kohinoor (Koh-i-Noor) Dia...</td>\n",
       "      <td>What would happen if the Indian government sto...</td>\n",
       "      <td>0</td>\n",
       "    </tr>\n",
       "    <tr>\n",
       "      <th>2</th>\n",
       "      <td>2</td>\n",
       "      <td>5</td>\n",
       "      <td>6</td>\n",
       "      <td>How can I increase the speed of my internet co...</td>\n",
       "      <td>How can Internet speed be increased by hacking...</td>\n",
       "      <td>0</td>\n",
       "    </tr>\n",
       "    <tr>\n",
       "      <th>3</th>\n",
       "      <td>3</td>\n",
       "      <td>7</td>\n",
       "      <td>8</td>\n",
       "      <td>Why am I mentally very lonely? How can I solve...</td>\n",
       "      <td>Find the remainder when [math]23^{24}[/math] i...</td>\n",
       "      <td>0</td>\n",
       "    </tr>\n",
       "    <tr>\n",
       "      <th>4</th>\n",
       "      <td>4</td>\n",
       "      <td>9</td>\n",
       "      <td>10</td>\n",
       "      <td>Which one dissolve in water quikly sugar, salt...</td>\n",
       "      <td>Which fish would survive in salt water?</td>\n",
       "      <td>0</td>\n",
       "    </tr>\n",
       "  </tbody>\n",
       "</table>\n",
       "</div>"
      ],
      "text/plain": [
       "   id  qid1  qid2                                          question1  \\\n",
       "0   0     1     2  What is the step by step guide to invest in sh...   \n",
       "1   1     3     4  What is the story of Kohinoor (Koh-i-Noor) Dia...   \n",
       "2   2     5     6  How can I increase the speed of my internet co...   \n",
       "3   3     7     8  Why am I mentally very lonely? How can I solve...   \n",
       "4   4     9    10  Which one dissolve in water quikly sugar, salt...   \n",
       "\n",
       "                                           question2  is_duplicate  \n",
       "0  What is the step by step guide to invest in sh...             0  \n",
       "1  What would happen if the Indian government sto...             0  \n",
       "2  How can Internet speed be increased by hacking...             0  \n",
       "3  Find the remainder when [math]23^{24}[/math] i...             0  \n",
       "4            Which fish would survive in salt water?             0  "
      ]
     },
     "metadata": {},
     "output_type": "display_data"
    }
   ],
   "source": [
    "# import training data\n",
    "trainPath = '.\\Data\\\\train.csv'\n",
    "train = pd.read_csv(trainPath)\n",
    "print('training shape: ', train.shape)\n",
    "display(train.head())\n",
    "\n",
    "# test data doesn't have labels so we can't use it to evaluate model accuracy\n",
    "# instead, i'll train-test-split the \"train.csv\" data"
   ]
  },
  {
   "cell_type": "markdown",
   "metadata": {},
   "source": [
    "### Visualize Training Set Classes"
   ]
  },
  {
   "cell_type": "code",
   "execution_count": 4,
   "metadata": {},
   "outputs": [
    {
     "name": "stdout",
     "output_type": "stream",
     "text": [
      "0    255027\n",
      "1    149263\n",
      "Name: is_duplicate, dtype: int64\n",
      "\n",
      "0    63.080215\n",
      "1    36.919785\n",
      "Name: is_duplicate, dtype: float64\n"
     ]
    },
    {
     "data": {
      "image/png": "[encoded data removed]",
      "text/plain": [
       "<Figure size 432x288 with 1 Axes>"
      ]
     },
     "metadata": {
      "needs_background": "light"
     },
     "output_type": "display_data"
    }
   ],
   "source": [
    "# number of classes\n",
    "print(train[\"is_duplicate\"].value_counts()); print() # count\n",
    "print((train[\"is_duplicate\"].value_counts()/train[\"is_duplicate\"].count())*100) # percent\n",
    "\n",
    "# plot \n",
    "train[\"is_duplicate\"].value_counts().plot(kind=\"bar\");"
   ]
  },
  {
   "cell_type": "markdown",
   "metadata": {},
   "source": [
    "### Cleaning"
   ]
  },
  {
   "cell_type": "code",
   "execution_count": 5,
   "metadata": {},
   "outputs": [
    {
     "name": "stdout",
     "output_type": "stream",
     "text": [
      "number of null values: \n",
      " id              0\n",
      "qid1            0\n",
      "qid2            0\n",
      "question1       0\n",
      "question2       0\n",
      "is_duplicate    0\n",
      "dtype: int64\n"
     ]
    }
   ],
   "source": [
    "# drop nan values\n",
    "train = train.dropna()\n",
    "\n",
    "# number of nan values after cleaning\n",
    "print('number of null values: \\n', train.isnull().sum())"
   ]
  },
  {
   "cell_type": "code",
   "execution_count": 6,
   "metadata": {},
   "outputs": [
    {
     "data": {
      "text/plain": [
       "0"
      ]
     },
     "execution_count": 6,
     "metadata": {},
     "output_type": "execute_result"
    }
   ],
   "source": [
    "# number of duplicate values\n",
    "train.duplicated().sum()"
   ]
  },
  {
   "cell_type": "markdown",
   "metadata": {},
   "source": [
    "### Undersampling Due To Class Imbalance"
   ]
  },
  {
   "cell_type": "code",
   "execution_count": 7,
   "metadata": {},
   "outputs": [
    {
     "name": "stdout",
     "output_type": "stream",
     "text": [
      "before undersampling:\n",
      "Counter({0: 255024, 1: 149263})\n",
      "\n",
      "after undersampling:\n",
      "Counter({0: 149263, 1: 149263})\n"
     ]
    },
    {
     "data": {
      "image/png": "[encoded data removed]",
      "text/plain": [
       "<Figure size 432x288 with 1 Axes>"
      ]
     },
     "metadata": {
      "needs_background": "light"
     },
     "output_type": "display_data"
    }
   ],
   "source": [
    "# random undersampling to fix class imbalance\n",
    "\n",
    "from collections import Counter\n",
    "from imblearn.under_sampling import RandomUnderSampler\n",
    "\n",
    "# summarize class distribution\n",
    "print('before undersampling:')\n",
    "print(Counter(train['is_duplicate'])); print()\n",
    "\n",
    "# define undersample strategy\n",
    "undersample = RandomUnderSampler(sampling_strategy='majority', random_state=42)\n",
    "\n",
    "# fit and apply the transform\n",
    "# X_train, y_train = undersample.fit_resample(X_train, y_train)\n",
    "train, _ = undersample.fit_resample(train, train['is_duplicate'])\n",
    "\n",
    "# summarize class distribution\n",
    "print('after undersampling:')\n",
    "print(Counter(train['is_duplicate']))\n",
    "\n",
    "# plot\n",
    "train['is_duplicate'].value_counts().plot(kind=\"bar\");"
   ]
  },
  {
   "cell_type": "code",
   "execution_count": 8,
   "metadata": {},
   "outputs": [
    {
     "name": "stdout",
     "output_type": "stream",
     "text": [
      "after sampling (label counts):\n",
      "Counter({1: 50064, 0: 49936})\n",
      "\n",
      "after sampling (label percentages):\n",
      "1    50.064\n",
      "0    49.936\n",
      "Name: is_duplicate, dtype: float64\n"
     ]
    }
   ],
   "source": [
    "# downsample for compute purposes\n",
    "train = train.sample(100000, random_state=42)\n",
    "\n",
    "print('after sampling (label counts):')\n",
    "print(Counter(train['is_duplicate'])); print()\n",
    "print('after sampling (label percentages):')\n",
    "print((train[\"is_duplicate\"].value_counts()/train[\"is_duplicate\"].count())*100) # percent"
   ]
  },
  {
   "cell_type": "markdown",
   "metadata": {},
   "source": [
    "### Clean Question Text"
   ]
  },
  {
   "cell_type": "code",
   "execution_count": 9,
   "metadata": {},
   "outputs": [],
   "source": [
    "eng_words = set(nltk.corpus.words.words())\n",
    "stopword = nltk.corpus.stopwords.words('english')\n",
    "\n",
    "def clean_question(question):\n",
    "    \n",
    "    # lowercase\n",
    "    question = question.lower()\n",
    "    \n",
    "    # remove punctuation\n",
    "    question = \"\".join([char for char in question if char not in string.punctuation])\n",
    "    \n",
    "    # remove non-english words\n",
    "    question = \" \".join(word for word in re.split('\\W+', question) if word in eng_words)\n",
    "    \n",
    "    # remove stopwords\n",
    "    question = \" \".join([word for word in re.split('\\W+', question) if word not in stopword])\n",
    "\n",
    "    return question"
   ]
  },
  {
   "cell_type": "code",
   "execution_count": 10,
   "metadata": {},
   "outputs": [
    {
     "name": "stderr",
     "output_type": "stream",
     "text": [
      "C:\\Users\\ta1031742\\AppData\\Roaming\\Python\\Python38\\site-packages\\pandas\\core\\indexing.py:1732: SettingWithCopyWarning: \n",
      "A value is trying to be set on a copy of a slice from a DataFrame\n",
      "\n",
      "See the caveats in the documentation: https://pandas.pydata.org/pandas-docs/stable/user_guide/indexing.html#returning-a-view-versus-a-copy\n",
      "  self._setitem_single_block(indexer, value, name)\n"
     ]
    },
    {
     "name": "stdout",
     "output_type": "stream",
     "text": [
      "(97122, 6)\n"
     ]
    },
    {
     "data": {
      "text/html": [
       "<div>\n",
       "<style scoped>\n",
       "    .dataframe tbody tr th:only-of-type {\n",
       "        vertical-align: middle;\n",
       "    }\n",
       "\n",
       "    .dataframe tbody tr th {\n",
       "        vertical-align: top;\n",
       "    }\n",
       "\n",
       "    .dataframe thead th {\n",
       "        text-align: right;\n",
       "    }\n",
       "</style>\n",
       "<table border=\"1\" class=\"dataframe\">\n",
       "  <thead>\n",
       "    <tr style=\"text-align: right;\">\n",
       "      <th></th>\n",
       "      <th>id</th>\n",
       "      <th>qid1</th>\n",
       "      <th>qid2</th>\n",
       "      <th>question1</th>\n",
       "      <th>question2</th>\n",
       "      <th>is_duplicate</th>\n",
       "    </tr>\n",
       "  </thead>\n",
       "  <tbody>\n",
       "    <tr>\n",
       "      <th>284788</th>\n",
       "      <td>364720</td>\n",
       "      <td>494790</td>\n",
       "      <td>484904</td>\n",
       "      <td>god hate made</td>\n",
       "      <td>god homosexuality make possible</td>\n",
       "      <td>1</td>\n",
       "    </tr>\n",
       "    <tr>\n",
       "      <th>231577</th>\n",
       "      <td>221233</td>\n",
       "      <td>328525</td>\n",
       "      <td>328526</td>\n",
       "      <td>photon retina eye</td>\n",
       "      <td>photon go retina</td>\n",
       "      <td>1</td>\n",
       "    </tr>\n",
       "    <tr>\n",
       "      <th>109421</th>\n",
       "      <td>121761</td>\n",
       "      <td>197246</td>\n",
       "      <td>197247</td>\n",
       "      <td>legitimate beating best</td>\n",
       "      <td>history star</td>\n",
       "      <td>0</td>\n",
       "    </tr>\n",
       "    <tr>\n",
       "      <th>47536</th>\n",
       "      <td>249661</td>\n",
       "      <td>363349</td>\n",
       "      <td>195254</td>\n",
       "      <td>new know going first day stage</td>\n",
       "      <td>new know going first day</td>\n",
       "      <td>0</td>\n",
       "    </tr>\n",
       "    <tr>\n",
       "      <th>228283</th>\n",
       "      <td>212447</td>\n",
       "      <td>9163</td>\n",
       "      <td>46561</td>\n",
       "      <td>best coaching</td>\n",
       "      <td>coaching institute best location want score</td>\n",
       "      <td>1</td>\n",
       "    </tr>\n",
       "  </tbody>\n",
       "</table>\n",
       "</div>"
      ],
      "text/plain": [
       "            id    qid1    qid2                       question1  \\\n",
       "284788  364720  494790  484904                   god hate made   \n",
       "231577  221233  328525  328526               photon retina eye   \n",
       "109421  121761  197246  197247         legitimate beating best   \n",
       "47536   249661  363349  195254  new know going first day stage   \n",
       "228283  212447    9163   46561                   best coaching   \n",
       "\n",
       "                                          question2  is_duplicate  \n",
       "284788              god homosexuality make possible             1  \n",
       "231577                             photon go retina             1  \n",
       "109421                                 history star             0  \n",
       "47536                      new know going first day             0  \n",
       "228283  coaching institute best location want score             1  "
      ]
     },
     "execution_count": 10,
     "metadata": {},
     "output_type": "execute_result"
    }
   ],
   "source": [
    "# clean question1 and update dataframe\n",
    "for idx, question in enumerate(train['question1']):\n",
    "    train['question1'].iloc[idx] = clean_question(question)\n",
    "    \n",
    "# clean question2 and update dataframe\n",
    "for idx, question in enumerate(train['question2']):\n",
    "    train['question2'].iloc[idx] = clean_question(question)\n",
    "    \n",
    "# drop rows with empty questions after cleaning\n",
    "train['question1'].replace('', np.nan, inplace=True)\n",
    "train['question2'].replace('', np.nan, inplace=True)\n",
    "train = train.dropna(how='any')\n",
    "\n",
    "print(train.shape) # will be slightly less than 100k\n",
    "train.head() # questions should be cleaned"
   ]
  },
  {
   "cell_type": "markdown",
   "metadata": {},
   "source": [
    "### Train-Test-Split"
   ]
  },
  {
   "cell_type": "code",
   "execution_count": 31,
   "metadata": {},
   "outputs": [
    {
     "name": "stdout",
     "output_type": "stream",
     "text": [
      "X_train shape:  (77697, 2)\n",
      "y_train shape:  (77697,)\n",
      "X_test shape:  (19425, 2)\n",
      "y_test shape:  (19425,)\n",
      "\n",
      "----------------------------------------------------------------\n",
      "Now go to Count/TFIDF vectorization OR GloVe word embeddings.\n",
      "----------------------------------------------------------------\n"
     ]
    }
   ],
   "source": [
    "from sklearn.model_selection import train_test_split\n",
    "\n",
    "X_train, X_test, y_train, y_test = train_test_split(train[['question1', 'question2']], train['is_duplicate'], test_size=0.2, random_state=42)\n",
    "\n",
    "print('X_train shape: ', X_train.shape)\n",
    "print('y_train shape: ', y_train.shape)\n",
    "print('X_test shape: ', X_test.shape)\n",
    "print('y_test shape: ', y_test.shape); print()\n",
    "\n",
    "print('----------------------------------------------------------------')\n",
    "print('Now go to Count/TFIDF vectorization OR GloVe word embeddings.')\n",
    "print('----------------------------------------------------------------')"
   ]
  },
  {
   "cell_type": "markdown",
   "metadata": {},
   "source": [
    "### Count and TFIDF Vectorization - DONE "
   ]
  },
  {
   "cell_type": "code",
   "execution_count": 20,
   "metadata": {},
   "outputs": [],
   "source": [
    "# concat questions for vectorization\n",
    "train_questions = list(X_train['question1']) + list(X_train['question2'])\n",
    "test_questions = list(X_test['question1']) + list(X_test['question2'])"
   ]
  },
  {
   "cell_type": "code",
   "execution_count": 21,
   "metadata": {},
   "outputs": [
    {
     "name": "stdout",
     "output_type": "stream",
     "text": [
      "q1 shape:  (77697, 3000)\n",
      "q2 shape:  (77697, 3000)\n"
     ]
    }
   ],
   "source": [
    "# initialize vectorizer\n",
    "# vec = TfidfVectorizer(max_features=3000)\n",
    "vec = CountVectorizer(max_features=3000)\n",
    "\n",
    "# fit vectorizer of training questions\n",
    "vec = vec.fit(train_questions)\n",
    "\n",
    "# transform training and test questions\n",
    "train_questions_vectorized = vec.transform(train_questions)\n",
    "test_questions_vectorized = vec.transform(test_questions)\n",
    "\n",
    "# split\n",
    "train_q1, train_q2 = np.vsplit(train_questions_vectorized.toarray(),2)\n",
    "test_q1, test_q2 = np.vsplit(test_questions_vectorized.toarray(),2)\n",
    "\n",
    "# concatenate along column axis\n",
    "train_all_qs = np.concatenate((train_q1, train_q2), axis=1)\n",
    "test_all_qs = np.concatenate((test_q1, test_q2), axis=1)\n",
    "\n",
    "# turn to dataframe\n",
    "X_train = pd.DataFrame(train_all_qs)\n",
    "X_test = pd.DataFrame(test_all_qs)\n",
    "y_train = y_train.reset_index(drop=True)\n",
    "y_test = y_test.reset_index(drop=True)\n",
    "\n",
    "# print shapes\n",
    "print('X_train shape: ', X_train.shape)\n",
    "print('y_train shape: ', y_train.shape)\n",
    "print('X_test shape: ', X_test.shape)\n",
    "print('y_test shape: ', y_test.shape)"
   ]
  },
  {
   "cell_type": "code",
   "execution_count": 23,
   "metadata": {},
   "outputs": [],
   "source": [
    "# save data - change name of file!!!\n",
    "with open('countvec.pickle', 'wb') as handle:\n",
    "    pickle.dump([X_train, X_test, y_train, y_test], handle, protocol=pickle.HIGHEST_PROTOCOL)"
   ]
  },
  {
   "cell_type": "markdown",
   "metadata": {},
   "source": [
    "### GloVe Word Embeddings - DONE"
   ]
  },
  {
   "cell_type": "code",
   "execution_count": 32,
   "metadata": {},
   "outputs": [
    {
     "name": "stdout",
     "output_type": "stream",
     "text": [
      "vocabulary length:  15056\n"
     ]
    }
   ],
   "source": [
    "# proprocess questions\n",
    "train_questions = list(X_train['question1']) + list(X_train['question2'])\n",
    "test_questions = list(X_test['question1']) + list(X_test['question2'])\n",
    "\n",
    "# prepare tokenizer\n",
    "tokenizer = Tokenizer(oov_token='<OOV>')\n",
    "tokenizer.fit_on_texts(train_questions)\n",
    "\n",
    "# create the word_index dictionary \n",
    "word_index = tokenizer.word_index\n",
    "\n",
    "# get the vocabulary\n",
    "vocabulary = list(word_index.keys())\n",
    "print('vocabulary length: ', len(vocabulary))\n",
    "\n",
    "# convert questions into sequences (integer encoding)\n",
    "sequences_train = tokenizer.texts_to_sequences(train_questions)\n",
    "sequences_test = tokenizer.texts_to_sequences(test_questions)\n",
    "\n",
    "# pad sequences so all have same length\n",
    "max_len = 50\n",
    "sequences_train = pad_sequences(sequences_train, maxlen=max_len, padding='post')\n",
    "sequences_test = pad_sequences(sequences_test, maxlen=max_len, padding='post')"
   ]
  },
  {
   "cell_type": "code",
   "execution_count": 33,
   "metadata": {},
   "outputs": [
    {
     "name": "stdout",
     "output_type": "stream",
     "text": [
      "X_train shape:  (77697, 100)\n",
      "y_train shape:  (77697,)\n",
      "X_test shape:  (19425, 100)\n",
      "y_test shape:  (19425,)\n"
     ]
    }
   ],
   "source": [
    "# split\n",
    "train_q1, train_q2 = np.vsplit(sequences_train, 2)\n",
    "test_q1, test_q2 = np.vsplit(sequences_test, 2)\n",
    "\n",
    "# concatenate along column axis\n",
    "train_all_qs = np.concatenate((train_q1, train_q2), axis=1)\n",
    "test_all_qs = np.concatenate((test_q1, test_q2), axis=1)\n",
    "\n",
    "# turn to dataframe\n",
    "X_train = pd.DataFrame(train_all_qs)\n",
    "X_test = pd.DataFrame(test_all_qs)\n",
    "y_train = y_train.reset_index(drop=True)\n",
    "y_test = y_test.reset_index(drop=True)\n",
    "\n",
    "# print shapes\n",
    "print('X_train shape: ', X_train.shape)\n",
    "print('y_train shape: ', y_train.shape)\n",
    "print('X_test shape: ', X_test.shape)\n",
    "print('y_test shape: ', y_test.shape)"
   ]
  },
  {
   "cell_type": "code",
   "execution_count": 35,
   "metadata": {},
   "outputs": [],
   "source": [
    "# load glove dictionary\n",
    "glove_dictionary = {}\n",
    "with open('glove.6B.200d.txt', encoding=\"utf8\") as file:\n",
    "    for each_line in file:\n",
    "        words, coeffs = each_line.split(maxsplit=1)\n",
    "        coeffs = np.array(coeffs.split(),dtype = float)\n",
    "        glove_dictionary[words] = coeffs"
   ]
  },
  {
   "cell_type": "code",
   "execution_count": 36,
   "metadata": {},
   "outputs": [],
   "source": [
    "# create embedding matrix\n",
    "embedding_matrix = np.zeros((len(vocabulary), 200)) \n",
    "\n",
    "# loop through all vocab words\n",
    "for idx, word in enumerate(vocabulary):\n",
    "    if word in list(glove_dictionary.keys()):\n",
    "        embedding_matrix[idx:] = glove_dictionary[word]"
   ]
  },
  {
   "cell_type": "code",
   "execution_count": 37,
   "metadata": {},
   "outputs": [],
   "source": [
    "# save variables\n",
    "with open('glovewordembeddings.pickle', 'wb') as handle:\n",
    "    pickle.dump([X_train, X_test, y_train, y_test, embedding_matrix], handle, protocol=pickle.HIGHEST_PROTOCOL)"
   ]
  },
  {
   "cell_type": "markdown",
   "metadata": {},
   "source": [
    "### Word2Vec Embeddings - TO DO"
   ]
  },
  {
   "cell_type": "markdown",
   "metadata": {},
   "source": [
    "Bag of words approaches (Count, TFIDF, One-hot): hold no information about the meaning of the word, how it is used in language and what is its usual context (i.e. what other words it generally appears close to).\n",
    "\n",
    "Word embeddings: capture the context of the word. Similar words will share similar vector representations. "
   ]
  },
  {
   "cell_type": "code",
   "execution_count": null,
   "metadata": {},
   "outputs": [],
   "source": [
    "# get word2vec file and extract\n",
    "\n",
    "# !pip install wget\n",
    "# import wget\n",
    "# import gzip\n",
    "\n",
    "# url = 'https://s3.amazonaws.com/dl4j-distribution/GoogleNews-vectors-negative300.bin.gz'\n",
    "# filename = wget.download(url)\n",
    "\n",
    "# f_in = gzip.open('GoogleNews-vectors-negative300.bin.gz', 'rb')\n",
    "# f_out = open('GoogleNews-vectors-negative300.bin', 'wb')\n",
    "# f_out.writelines(f_in)"
   ]
  },
  {
   "cell_type": "code",
   "execution_count": null,
   "metadata": {},
   "outputs": [],
   "source": [
    "from gensim.models import Word2Vec\n",
    "\n",
    "model = Word2Vec(vocabulary, vector_size=24, epochs=100)\n",
    "word_vectors = model.wv"
   ]
  },
  {
   "cell_type": "code",
   "execution_count": null,
   "metadata": {},
   "outputs": [],
   "source": [
    "from tensorflow.keras.layers import Embedding\n",
    "\n",
    "def gensim_to_keras_embedding(model, train_embeddings=False):\n",
    "    \"\"\"Get a Keras 'Embedding' layer with weights set from Word2Vec model's learned word embeddings.\n",
    "\n",
    "    Parameters\n",
    "    ----------\n",
    "    train_embeddings : bool\n",
    "        If False, the returned weights are frozen and stopped from being updated.\n",
    "        If True, the weights can / will be further updated in Keras.\n",
    "\n",
    "    Returns\n",
    "    -------\n",
    "    `keras.layers.Embedding`\n",
    "        Embedding layer, to be used as input to deeper network layers.\n",
    "\n",
    "    \"\"\"\n",
    "    keyed_vectors = model.wv  # structure holding the result of training\n",
    "    weights = keyed_vectors.vectors  # vectors themselves, a 2D numpy array    \n",
    "    index_to_key = keyed_vectors.index_to_key  # which row in `weights` corresponds to which word?\n",
    "\n",
    "    layer = Embedding(\n",
    "        input_dim=weights.shape[0],\n",
    "        output_dim=weights.shape[1],\n",
    "        weights=[weights],\n",
    "        trainable=train_embeddings,\n",
    "    )\n",
    "    return layer"
   ]
  }
 ],
 "metadata": {
  "kernelspec": {
   "display_name": "Python 3",
   "language": "python",
   "name": "python3"
  },
  "language_info": {
   "codemirror_mode": {
    "name": "ipython",
    "version": 3
   },
   "file_extension": ".py",
   "mimetype": "text/x-python",
   "name": "python",
   "nbconvert_exporter": "python",
   "pygments_lexer": "ipython3",
   "version": "3.8.5"
  }
 },
 "nbformat": 4,
 "nbformat_minor": 4
}
